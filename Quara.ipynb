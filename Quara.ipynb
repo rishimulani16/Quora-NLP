{
 "cells": [
  {
   "cell_type": "code",
   "execution_count": 4,
   "id": "b38443c1-4e4f-46cc-95e5-271884deecf3",
   "metadata": {},
   "outputs": [],
   "source": [
    "import numpy as np\n",
    "import pandas as pd\n",
    "import seaborn as sns\n",
    "import matplotlib.pyplot as plt"
   ]
  },
  {
   "cell_type": "code",
   "execution_count": 5,
   "id": "4e437717-235d-4f46-8bca-b5d779540cc3",
   "metadata": {},
   "outputs": [
    {
     "data": {
      "text/plain": [
       "(404351, 6)"
      ]
     },
     "execution_count": 5,
     "metadata": {},
     "output_type": "execute_result"
    }
   ],
   "source": [
    "df = pd.read_csv('questions 2.csv')\n",
    "df.shape"
   ]
  },
  {
   "cell_type": "code",
   "execution_count": 6,
   "id": "7fd2a20c-cdf0-4788-89b8-b6a5f6be2b94",
   "metadata": {},
   "outputs": [
    {
     "data": {
      "text/html": [
       "<div>\n",
       "<style scoped>\n",
       "    .dataframe tbody tr th:only-of-type {\n",
       "        vertical-align: middle;\n",
       "    }\n",
       "\n",
       "    .dataframe tbody tr th {\n",
       "        vertical-align: top;\n",
       "    }\n",
       "\n",
       "    .dataframe thead th {\n",
       "        text-align: right;\n",
       "    }\n",
       "</style>\n",
       "<table border=\"1\" class=\"dataframe\">\n",
       "  <thead>\n",
       "    <tr style=\"text-align: right;\">\n",
       "      <th></th>\n",
       "      <th>id</th>\n",
       "      <th>qid1</th>\n",
       "      <th>qid2</th>\n",
       "      <th>question1</th>\n",
       "      <th>question2</th>\n",
       "      <th>is_duplicate</th>\n",
       "    </tr>\n",
       "  </thead>\n",
       "  <tbody>\n",
       "    <tr>\n",
       "      <th>135951</th>\n",
       "      <td>135951</td>\n",
       "      <td>269186</td>\n",
       "      <td>269187</td>\n",
       "      <td>How do I avoid a girl from falling in love wit...</td>\n",
       "      <td>How can I make a girl fall in love with me?</td>\n",
       "      <td>0</td>\n",
       "    </tr>\n",
       "    <tr>\n",
       "      <th>349643</th>\n",
       "      <td>349643</td>\n",
       "      <td>684999</td>\n",
       "      <td>685000</td>\n",
       "      <td>As a startup founder will it look bad if you d...</td>\n",
       "      <td>When interviewing with tech companies like Goo...</td>\n",
       "      <td>0</td>\n",
       "    </tr>\n",
       "    <tr>\n",
       "      <th>226121</th>\n",
       "      <td>226121</td>\n",
       "      <td>445654</td>\n",
       "      <td>445655</td>\n",
       "      <td>What are the most famous last words?</td>\n",
       "      <td>What are famous words of famous last words?</td>\n",
       "      <td>1</td>\n",
       "    </tr>\n",
       "    <tr>\n",
       "      <th>45592</th>\n",
       "      <td>45592</td>\n",
       "      <td>90786</td>\n",
       "      <td>90787</td>\n",
       "      <td>If the sun is in space, why is the universe so...</td>\n",
       "      <td>Why is the universe so dark?</td>\n",
       "      <td>1</td>\n",
       "    </tr>\n",
       "    <tr>\n",
       "      <th>313606</th>\n",
       "      <td>313606</td>\n",
       "      <td>519415</td>\n",
       "      <td>615509</td>\n",
       "      <td>How can we encourage critical thinking while d...</td>\n",
       "      <td>Do girls ever try to overtake while driving?</td>\n",
       "      <td>0</td>\n",
       "    </tr>\n",
       "  </tbody>\n",
       "</table>\n",
       "</div>"
      ],
      "text/plain": [
       "            id    qid1    qid2  \\\n",
       "135951  135951  269186  269187   \n",
       "349643  349643  684999  685000   \n",
       "226121  226121  445654  445655   \n",
       "45592    45592   90786   90787   \n",
       "313606  313606  519415  615509   \n",
       "\n",
       "                                                question1  \\\n",
       "135951  How do I avoid a girl from falling in love wit...   \n",
       "349643  As a startup founder will it look bad if you d...   \n",
       "226121               What are the most famous last words?   \n",
       "45592   If the sun is in space, why is the universe so...   \n",
       "313606  How can we encourage critical thinking while d...   \n",
       "\n",
       "                                                question2  is_duplicate  \n",
       "135951        How can I make a girl fall in love with me?             0  \n",
       "349643  When interviewing with tech companies like Goo...             0  \n",
       "226121        What are famous words of famous last words?             1  \n",
       "45592                        Why is the universe so dark?             1  \n",
       "313606       Do girls ever try to overtake while driving?             0  "
      ]
     },
     "execution_count": 6,
     "metadata": {},
     "output_type": "execute_result"
    }
   ],
   "source": [
    "#here 1 depicts that q1 and q2 has same meanings while 0 depicts different meaning of the sentence\n",
    "df.sample(5)"
   ]
  },
  {
   "cell_type": "code",
   "execution_count": 7,
   "id": "12b405d4-3b09-45c0-843d-c520f3390bb6",
   "metadata": {},
   "outputs": [
    {
     "name": "stdout",
     "output_type": "stream",
     "text": [
      "<class 'pandas.core.frame.DataFrame'>\n",
      "RangeIndex: 404351 entries, 0 to 404350\n",
      "Data columns (total 6 columns):\n",
      " #   Column        Non-Null Count   Dtype \n",
      "---  ------        --------------   ----- \n",
      " 0   id            404351 non-null  int64 \n",
      " 1   qid1          404351 non-null  int64 \n",
      " 2   qid2          404351 non-null  int64 \n",
      " 3   question1     404350 non-null  object\n",
      " 4   question2     404349 non-null  object\n",
      " 5   is_duplicate  404351 non-null  int64 \n",
      "dtypes: int64(4), object(2)\n",
      "memory usage: 18.5+ MB\n"
     ]
    }
   ],
   "source": [
    "df.info()"
   ]
  },
  {
   "cell_type": "code",
   "execution_count": 8,
   "id": "1e5bbcbd-9abb-479c-a1b7-173f29c3bccd",
   "metadata": {},
   "outputs": [
    {
     "data": {
      "text/plain": [
       "id              0\n",
       "qid1            0\n",
       "qid2            0\n",
       "question1       1\n",
       "question2       2\n",
       "is_duplicate    0\n",
       "dtype: int64"
      ]
     },
     "execution_count": 8,
     "metadata": {},
     "output_type": "execute_result"
    }
   ],
   "source": [
    "#Missing values\n",
    "df.isnull().sum()"
   ]
  },
  {
   "cell_type": "code",
   "execution_count": 9,
   "id": "95655227-0f1e-40c5-9662-3c60cff4a348",
   "metadata": {},
   "outputs": [
    {
     "data": {
      "text/plain": [
       "np.int64(0)"
      ]
     },
     "execution_count": 9,
     "metadata": {},
     "output_type": "execute_result"
    }
   ],
   "source": [
    "#here we can see not a single q1 or q2 has duplicate questions\n",
    "df.duplicated().sum()"
   ]
  },
  {
   "cell_type": "code",
   "execution_count": 15,
   "id": "5364493e-029f-423b-befa-7eda337030e0",
   "metadata": {},
   "outputs": [
    {
     "name": "stdout",
     "output_type": "stream",
     "text": [
      "is_duplicate\n",
      "0    255045\n",
      "1    149306\n",
      "Name: count, dtype: int64\n",
      "is_duplicate\n",
      "0    0.630752\n",
      "1    0.369248\n",
      "Name: count, dtype: float64\n"
     ]
    },
    {
     "data": {
      "text/plain": [
       "<Axes: xlabel='is_duplicate'>"
      ]
     },
     "execution_count": 15,
     "metadata": {},
     "output_type": "execute_result"
    },
    {
     "data": {
      "image/png": "[encoded data removed]",
      "text/plain": [
       "<Figure size 640x480 with 1 Axes>"
      ]
     },
     "metadata": {},
     "output_type": "display_data"
    }
   ],
   "source": [
    "#check data distribution\n",
    "print(df['is_duplicate'].value_counts())\n",
    "\n",
    "print((df['is_duplicate'].value_counts())/(df['is_duplicate'].count()))\n",
    "\n",
    "df['is_duplicate'].value_counts().plot(kind='bar')"
   ]
  },
  {
   "cell_type": "code",
   "execution_count": 17,
   "id": "f1dcbef3-7dbd-4b87-ae83-c3ec9b4a864f",
   "metadata": {},
   "outputs": [
    {
     "name": "stdout",
     "output_type": "stream",
     "text": [
      "Number of Unique questions 789801\n",
      "Number of quesitions getting reapeted 13698\n"
     ]
    }
   ],
   "source": [
    "#Reapited questions\n",
    "\n",
    "qid = pd.Series(df['qid1'].tolist() + df['qid2'].tolist())\n",
    "print('Number of Unique questions', np.unique(qid).shape[0])\n",
    "\n",
    "x = qid.value_counts() > 1\n",
    "print('Number of quesitions getting reapeted', x[x].shape[0])"
   ]
  },
  {
   "cell_type": "code",
   "execution_count": 20,
   "id": "dd5ede97-2542-45e3-a00f-e2faa40f2350",
   "metadata": {},
   "outputs": [
    {
     "data": {
      "image/png": "[encoded data removed]",
      "text/plain": [
       "<Figure size 640x480 with 1 Axes>"
      ]
     },
     "metadata": {},
     "output_type": "display_data"
    }
   ],
   "source": [
    "#Reapeted question histogram\n",
    "#no of time the same question been reapeted\n",
    "plt.hist(qid.value_counts().values,bins=160)\n",
    "plt.yscale('log')\n",
    "plt.show()"
   ]
  },
  {
   "cell_type": "code",
   "execution_count": 21,
   "id": "96cc9568-cd0f-4413-bce5-cfcb81ff0c13",
   "metadata": {},
   "outputs": [],
   "source": [
    "#Model Implemetation\n",
    "new_df = df.sample(30000)\n"
   ]
  },
  {
   "cell_type": "code",
   "execution_count": 22,
   "id": "d83fd1e3-c8a0-4dcc-9895-7f078fe2328a",
   "metadata": {},
   "outputs": [
    {
     "data": {
      "text/plain": [
       "id              0\n",
       "qid1            0\n",
       "qid2            0\n",
       "question1       0\n",
       "question2       0\n",
       "is_duplicate    0\n",
       "dtype: int64"
      ]
     },
     "execution_count": 22,
     "metadata": {},
     "output_type": "execute_result"
    }
   ],
   "source": [
    "new_df.isnull().sum()"
   ]
  },
  {
   "cell_type": "code",
   "execution_count": 23,
   "id": "d96778a6-24a0-4a96-958a-20a71324acb7",
   "metadata": {},
   "outputs": [
    {
     "data": {
      "text/html": [
       "<div>\n",
       "<style scoped>\n",
       "    .dataframe tbody tr th:only-of-type {\n",
       "        vertical-align: middle;\n",
       "    }\n",
       "\n",
       "    .dataframe tbody tr th {\n",
       "        vertical-align: top;\n",
       "    }\n",
       "\n",
       "    .dataframe thead th {\n",
       "        text-align: right;\n",
       "    }\n",
       "</style>\n",
       "<table border=\"1\" class=\"dataframe\">\n",
       "  <thead>\n",
       "    <tr style=\"text-align: right;\">\n",
       "      <th></th>\n",
       "      <th>id</th>\n",
       "      <th>qid1</th>\n",
       "      <th>qid2</th>\n",
       "      <th>question1</th>\n",
       "      <th>question2</th>\n",
       "      <th>is_duplicate</th>\n",
       "    </tr>\n",
       "  </thead>\n",
       "  <tbody>\n",
       "    <tr>\n",
       "      <th>231268</th>\n",
       "      <td>231268</td>\n",
       "      <td>455701</td>\n",
       "      <td>455702</td>\n",
       "      <td>What is the relationship between chronic fatig...</td>\n",
       "      <td>Is severe chronic fatigue normal for C-PTSD?</td>\n",
       "      <td>1</td>\n",
       "    </tr>\n",
       "    <tr>\n",
       "      <th>192043</th>\n",
       "      <td>192043</td>\n",
       "      <td>379125</td>\n",
       "      <td>379126</td>\n",
       "      <td>What is the best way to reheat cooked lobster?</td>\n",
       "      <td>What is the best way to reheat a cooked lobster?</td>\n",
       "      <td>1</td>\n",
       "    </tr>\n",
       "    <tr>\n",
       "      <th>222073</th>\n",
       "      <td>222073</td>\n",
       "      <td>437732</td>\n",
       "      <td>437733</td>\n",
       "      <td>What are your views on Cyrus Mistry being remo...</td>\n",
       "      <td>Why did Tata group fire Cyrus Mistry from chai...</td>\n",
       "      <td>1</td>\n",
       "    </tr>\n",
       "    <tr>\n",
       "      <th>276199</th>\n",
       "      <td>276199</td>\n",
       "      <td>543057</td>\n",
       "      <td>185428</td>\n",
       "      <td>What is the difference between voltage and cur...</td>\n",
       "      <td>What's the difference between amps, watts and ...</td>\n",
       "      <td>0</td>\n",
       "    </tr>\n",
       "    <tr>\n",
       "      <th>46847</th>\n",
       "      <td>46847</td>\n",
       "      <td>93276</td>\n",
       "      <td>93277</td>\n",
       "      <td>How is life being a full-time freelancer and h...</td>\n",
       "      <td>What is the difference between indoor fm recep...</td>\n",
       "      <td>0</td>\n",
       "    </tr>\n",
       "  </tbody>\n",
       "</table>\n",
       "</div>"
      ],
      "text/plain": [
       "            id    qid1    qid2  \\\n",
       "231268  231268  455701  455702   \n",
       "192043  192043  379125  379126   \n",
       "222073  222073  437732  437733   \n",
       "276199  276199  543057  185428   \n",
       "46847    46847   93276   93277   \n",
       "\n",
       "                                                question1  \\\n",
       "231268  What is the relationship between chronic fatig...   \n",
       "192043     What is the best way to reheat cooked lobster?   \n",
       "222073  What are your views on Cyrus Mistry being remo...   \n",
       "276199  What is the difference between voltage and cur...   \n",
       "46847   How is life being a full-time freelancer and h...   \n",
       "\n",
       "                                                question2  is_duplicate  \n",
       "231268       Is severe chronic fatigue normal for C-PTSD?             1  \n",
       "192043   What is the best way to reheat a cooked lobster?             1  \n",
       "222073  Why did Tata group fire Cyrus Mistry from chai...             1  \n",
       "276199  What's the difference between amps, watts and ...             0  \n",
       "46847   What is the difference between indoor fm recep...             0  "
      ]
     },
     "execution_count": 23,
     "metadata": {},
     "output_type": "execute_result"
    }
   ],
   "source": [
    "new_df.head()"
   ]
  },
  {
   "cell_type": "code",
   "execution_count": null,
   "id": "4e062984-439b-4dd9-b584-a145180bebce",
   "metadata": {},
   "outputs": [],
   "source": []
  }
 ],
 "metadata": {
  "kernelspec": {
   "display_name": "Python [conda env:base] *",
   "language": "python",
   "name": "conda-base-py"
  },
  "language_info": {
   "codemirror_mode": {
    "name": "ipython",
    "version": 3
   },
   "file_extension": ".py",
   "mimetype": "text/x-python",
   "name": "python",
   "nbconvert_exporter": "python",
   "pygments_lexer": "ipython3",
   "version": "3.13.5"
  }
 },
 "nbformat": 4,
 "nbformat_minor": 5
}
